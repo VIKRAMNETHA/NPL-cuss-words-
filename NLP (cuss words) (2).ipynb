{
 "cells": [
  {
   "cell_type": "code",
   "execution_count": 7,
   "id": "3f40c693-2d5f-4565-8b6b-5b8db689baef",
   "metadata": {},
   "outputs": [],
   "source": [
    "import imageio\n",
    "\n",
    "# Replace this line\n",
    "# from scipy.misc import imread\n",
    "\n",
    "# With this line\n",
    "imread = imageio.imread\n"
   ]
  },
  {
   "cell_type": "code",
   "execution_count": 10,
   "id": "0df3dbef-be51-4302-bd2b-75e89855b2ff",
   "metadata": {},
   "outputs": [],
   "source": [
    "import numpy as np\n",
    "import pandas as pd\n",
    "import matplotlib.pyplot as plt\n",
    "import seaborn as sns\n",
    "import imageio\n",
    "from scipy import sparse\n",
    "import scipy.stats as ss\n",
    "import time\n",
    "import warnings\n",
    "\n",
    "# Use imread from imageio\n",
    "imread = imageio.imread\n"
   ]
  },
  {
   "cell_type": "code",
   "execution_count": 13,
   "id": "8bb3fe87-f9f6-4ab3-a981-b24b14f8fbb8",
   "metadata": {},
   "outputs": [],
   "source": [
    "import matplotlib.pyplot as plt\n",
    "import matplotlib.gridspec as gridspec \n",
    "import seaborn as sns\n",
    "from wordcloud import WordCloud ,STOPWORDS\n",
    "from PIL import Image\n",
    "import matplotlib_venn as venn"
   ]
  },
  {
   "cell_type": "code",
   "execution_count": 17,
   "id": "57a69652-6ddf-4967-b457-1728fc46f8bc",
   "metadata": {},
   "outputs": [],
   "source": [
    "import string\n",
    "import re    #for regex\n",
    "import nltk\n",
    "from nltk.corpus import stopwords\n",
    "import spacy\n",
    "from nltk import pos_tag\n",
    "from nltk.stem.wordnet import WordNetLemmatizer \n",
    "from nltk.tokenize import word_tokenize\n",
    "# Tweet tokenizer does not split at apostophes which is what we want\n",
    "from nltk.tokenize import TweetTokenizer "
   ]
  },
  {
   "cell_type": "code",
   "execution_count": 18,
   "id": "063a02b5-dbb4-4506-9703-85a21b89cecf",
   "metadata": {},
   "outputs": [],
   "source": [
    "from sklearn.feature_extraction.text import TfidfVectorizer, CountVectorizer, HashingVectorizer\n",
    "from sklearn.decomposition import TruncatedSVD\n",
    "from sklearn.base import BaseEstimator, ClassifierMixin\n",
    "from sklearn.utils.validation import check_X_y, check_is_fitted\n",
    "from sklearn.linear_model import LogisticRegression\n",
    "from sklearn import metrics\n",
    "from sklearn.metrics import log_loss\n",
    "from sklearn.model_selection import StratifiedKFold\n",
    "from sklearn.model_selection import train_test_split\n"
   ]
  },
  {
   "cell_type": "code",
   "execution_count": 23,
   "id": "3f55e6b3-1b7d-4a8b-890f-c730f5f1af55",
   "metadata": {},
   "outputs": [
    {
     "name": "stderr",
     "output_type": "stream",
     "text": [
      "[nltk_data] Downloading package stopwords to\n",
      "[nltk_data]     C:\\Users\\VIKRAM\\AppData\\Roaming\\nltk_data...\n",
      "[nltk_data]   Unzipping corpora\\stopwords.zip.\n"
     ]
    },
    {
     "data": {
      "text/plain": [
       "True"
      ]
     },
     "execution_count": 23,
     "metadata": {},
     "output_type": "execute_result"
    }
   ],
   "source": [
    "import nltk\n",
    "\n",
    "nltk.download('stopwords')\n",
    "\n"
   ]
  },
  {
   "cell_type": "code",
   "execution_count": 24,
   "id": "c59b4f21-cd3e-47ec-8860-a06484ce5c76",
   "metadata": {},
   "outputs": [],
   "source": [
    "start_time=time.time()\n",
    "color = sns.color_palette()\n",
    "sns.set_style(\"dark\")\n",
    "eng_stopwords = set(stopwords.words(\"english\"))\n",
    "warnings.filterwarnings(\"ignore\")\n",
    "\n",
    "lem = WordNetLemmatizer()\n",
    "tokenizer=TweetTokenizer()\n",
    "\n",
    "%matplotlib inline"
   ]
  },
  {
   "cell_type": "code",
   "execution_count": 26,
   "id": "4ceb9ce5-0260-4951-b0b7-f928a008b451",
   "metadata": {},
   "outputs": [],
   "source": [
    "train=pd.read_csv(\"Terms-to-Block.csv\")\n",
    "test=pd.read_csv(\"Terms-to-Block.csv\")"
   ]
  },
  {
   "cell_type": "code",
   "execution_count": 27,
   "id": "1044a398-e786-431e-9ee6-05c727bf0816",
   "metadata": {},
   "outputs": [
    {
     "data": {
      "text/html": [
       "<div>\n",
       "<style scoped>\n",
       "    .dataframe tbody tr th:only-of-type {\n",
       "        vertical-align: middle;\n",
       "    }\n",
       "\n",
       "    .dataframe tbody tr th {\n",
       "        vertical-align: top;\n",
       "    }\n",
       "\n",
       "    .dataframe thead th {\n",
       "        text-align: right;\n",
       "    }\n",
       "</style>\n",
       "<table border=\"1\" class=\"dataframe\">\n",
       "  <thead>\n",
       "    <tr style=\"text-align: right;\">\n",
       "      <th></th>\n",
       "      <th>a55,</th>\n",
       "    </tr>\n",
       "  </thead>\n",
       "  <tbody>\n",
       "    <tr>\n",
       "      <th>2126</th>\n",
       "      <td>c-o-c-k</td>\n",
       "    </tr>\n",
       "    <tr>\n",
       "      <th>2127</th>\n",
       "      <td>dong</td>\n",
       "    </tr>\n",
       "    <tr>\n",
       "      <th>2128</th>\n",
       "      <td>cumming</td>\n",
       "    </tr>\n",
       "    <tr>\n",
       "      <th>2129</th>\n",
       "      <td>prick</td>\n",
       "    </tr>\n",
       "    <tr>\n",
       "      <th>2130</th>\n",
       "      <td>viagra</td>\n",
       "    </tr>\n",
       "    <tr>\n",
       "      <th>2131</th>\n",
       "      <td>shaggin</td>\n",
       "    </tr>\n",
       "    <tr>\n",
       "      <th>2132</th>\n",
       "      <td>vagiina</td>\n",
       "    </tr>\n",
       "    <tr>\n",
       "      <th>2133</th>\n",
       "      <td>pr1c</td>\n",
       "    </tr>\n",
       "    <tr>\n",
       "      <th>2134</th>\n",
       "      <td>twathead</td>\n",
       "    </tr>\n",
       "    <tr>\n",
       "      <th>2135</th>\n",
       "      <td>hell</td>\n",
       "    </tr>\n",
       "  </tbody>\n",
       "</table>\n",
       "</div>"
      ],
      "text/plain": [
       "          a55,\n",
       "2126   c-o-c-k\n",
       "2127      dong\n",
       "2128   cumming\n",
       "2129     prick\n",
       "2130    viagra\n",
       "2131   shaggin\n",
       "2132   vagiina\n",
       "2133      pr1c\n",
       "2134  twathead\n",
       "2135      hell"
      ]
     },
     "execution_count": 27,
     "metadata": {},
     "output_type": "execute_result"
    }
   ],
   "source": [
    "#take a peak\n",
    "train.tail(10)"
   ]
  },
  {
   "cell_type": "code",
   "execution_count": 28,
   "id": "3c0c981e-6f5d-487a-9b1c-0d78cf36951f",
   "metadata": {},
   "outputs": [
    {
     "name": "stdout",
     "output_type": "stream",
     "text": [
      "       : train : test\n",
      "rows   : 2136 : 2136\n",
      "perc   : 50    : 50\n"
     ]
    }
   ],
   "source": [
    "nrow_train=train.shape[0]\n",
    "nrow_test=test.shape[0]\n",
    "sum=nrow_train+nrow_test\n",
    "print(\"       : train : test\")\n",
    "print(\"rows   :\",nrow_train,\":\",nrow_test)\n",
    "print(\"perc   :\",round(nrow_train*100/sum),\"   :\",round(nrow_test*100/sum))"
   ]
  },
  {
   "cell_type": "code",
   "execution_count": 29,
   "id": "f9bb3131-a99a-4470-932d-4743c8117be1",
   "metadata": {},
   "outputs": [
    {
     "name": "stdout",
     "output_type": "stream",
     "text": [
      "Total comments =  2136\n",
      "Total clean comments =  2136\n",
      "Total tags = 0.0\n"
     ]
    }
   ],
   "source": [
    "x=train.iloc[:,2:].sum()\n",
    "#marking comments without any tags as \"clean\"\n",
    "rowsums=train.iloc[:,2:].sum(axis=1)\n",
    "train['clean']=(rowsums==0)\n",
    "#count number of clean entries\n",
    "train['clean'].sum()\n",
    "print(\"Total comments = \",len(train))\n",
    "print(\"Total clean comments = \",train['clean'].sum())\n",
    "print(\"Total tags =\",x.sum())"
   ]
  },
  {
   "cell_type": "code",
   "execution_count": 32,
   "id": "a15e0ffa-8ffb-4013-8b7b-d0fdca95b272",
   "metadata": {},
   "outputs": [
    {
     "name": "stdout",
     "output_type": "stream",
     "text": [
      "Check for missing values in Train dataset\n",
      "a55,     0\n",
      "clean    0\n",
      "dtype: int64\n",
      "Check for missing values in Test dataset\n",
      "a55,    0\n",
      "dtype: int64\n",
      "filling NA with \"unknown\"\n",
      "'comment_text' column is missing in the training data.\n",
      "'comment_text' column is missing in the test data.\n"
     ]
    }
   ],
   "source": [
    "print(\"Check for missing values in Train dataset\")\n",
    "null_check=train.isnull().sum()\n",
    "print(null_check)\n",
    "print(\"Check for missing values in Test dataset\")\n",
    "null_check=test.isnull().sum()\n",
    "print(null_check)\n",
    "print(\"filling NA with \\\"unknown\\\"\")\n",
    "if 'comment_text' in train.columns:\n",
    "    # Fill missing values in 'comment_text' with \"unknown\"\n",
    "    train['comment_text'].fillna('unknown', inplace=True)\n",
    "else:\n",
    "    print(\"'comment_text' column is missing in the training data.\")\n",
    "\n",
    "if 'comment_text' in test.columns:\n",
    "    # Fill missing values in 'comment_text' with \"unknown\"\n",
    "    test['comment_text'].fillna('unknown', inplace=True)\n",
    "else:\n",
    "    print(\"'comment_text' column is missing in the test data.\")\n"
   ]
  },
  {
   "cell_type": "code",
   "execution_count": 34,
   "id": "6317a785-4559-4afd-83dc-5a8d27308f5a",
   "metadata": {},
   "outputs": [
    {
     "data": {
      "image/png": "[encoded data removed]",
      "text/plain": [
       "<Figure size 800x400 with 1 Axes>"
      ]
     },
     "metadata": {},
     "output_type": "display_data"
    }
   ],
   "source": [
    "x = train.iloc[:, 2:].sum()\n",
    "\n",
    "# Plot\n",
    "plt.figure(figsize=(8, 4))\n",
    "ax = sns.barplot(x=x.index, y=x.values, alpha=0.8)\n",
    "plt.title(\"# per class\")\n",
    "plt.ylabel('# of Occurrences', fontsize=12)\n",
    "plt.xlabel('Type', fontsize=12)\n",
    "\n",
    "# Adding the text labels\n",
    "rects = ax.patches\n",
    "labels = x.values\n",
    "for rect, label in zip(rects, labels):\n",
    "    height = rect.get_height()\n",
    "    ax.text(rect.get_x() + rect.get_width() / 2, height + 5, label, ha='center', va='bottom')\n",
    "\n",
    "plt.show()"
   ]
  },
  {
   "cell_type": "code",
   "execution_count": 36,
   "id": "5f20a201-4787-4b4c-8052-e36dd6a276f9",
   "metadata": {},
   "outputs": [
    {
     "data": {
      "image/png": "[encoded data removed]",
      "text/plain": [
       "<Figure size 800x400 with 1 Axes>"
      ]
     },
     "metadata": {},
     "output_type": "display_data"
    }
   ],
   "source": [
    "x = rowsums.value_counts()\n",
    "\n",
    "# Define a color palette if not already defined\n",
    "color = sns.color_palette()\n",
    "\n",
    "# Plot\n",
    "plt.figure(figsize=(8, 4))\n",
    "ax = sns.barplot(x=x.index, y=x.values, alpha=0.8, color=color[2])\n",
    "plt.title(\"Multiple tags per comment\")\n",
    "plt.ylabel('# of Occurrences', fontsize=12)\n",
    "plt.xlabel('# of tags', fontsize=12)\n",
    "\n",
    "# Adding the text labels\n",
    "rects = ax.patches\n",
    "labels = x.values\n",
    "for rect, label in zip(rects, labels):\n",
    "    height = rect.get_height()\n",
    "    ax.text(rect.get_x() + rect.get_width() / 2, height + 5, label, ha='center', va='bottom')\n",
    "\n",
    "plt.show()"
   ]
  },
  {
   "cell_type": "code",
   "execution_count": 40,
   "id": "507b9e21-9235-4b6f-b28c-812bfa831176",
   "metadata": {},
   "outputs": [
    {
     "name": "stdout",
     "output_type": "stream",
     "text": [
      "Shape of corr matrix: (0, 0)\n",
      "Correlation matrix is empty or has zero dimensions.\n"
     ]
    }
   ],
   "source": [
    "temp_df = train.iloc[:, 2:-1]  # Assuming you want to exclude some columns at the end\n",
    "\n",
    "# Check for NaN values in temp_df\n",
    "if temp_df.isnull().values.any():\n",
    "    print(\"Warning: NaN values found in temp_df\")\n",
    "\n",
    "# Compute correlation matrix\n",
    "corr = temp_df.corr()\n",
    "\n",
    "# Check dimensions of corr to debug\n",
    "print(\"Shape of corr matrix:\", corr.shape)\n",
    "\n",
    "# Plotting heatmap if corr is not empty\n",
    "if not corr.empty:\n",
    "    plt.figure(figsize=(10, 8))\n",
    "    sns.heatmap(corr,\n",
    "                xticklabels=corr.columns.values,\n",
    "                yticklabels=corr.columns.values,\n",
    "                annot=True)\n",
    "    plt.title(\"Correlation Heatmap\")\n",
    "    plt.show()\n",
    "else:\n",
    "    print(\"Correlation matrix is empty or has zero dimensions.\")"
   ]
  },
  {
   "cell_type": "code",
   "execution_count": null,
   "id": "a19ade4c-91dd-4365-8b11-056fa41e3d95",
   "metadata": {},
   "outputs": [],
   "source": []
  }
 ],
 "metadata": {
  "kernelspec": {
   "display_name": "Python 3 (ipykernel)",
   "language": "python",
   "name": "python3"
  },
  "language_info": {
   "codemirror_mode": {
    "name": "ipython",
    "version": 3
   },
   "file_extension": ".py",
   "mimetype": "text/x-python",
   "name": "python",
   "nbconvert_exporter": "python",
   "pygments_lexer": "ipython3",
   "version": "3.12.3"
  }
 },
 "nbformat": 4,
 "nbformat_minor": 5
}
